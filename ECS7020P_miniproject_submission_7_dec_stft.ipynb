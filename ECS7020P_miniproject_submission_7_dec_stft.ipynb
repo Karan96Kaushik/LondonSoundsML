{
 "cells": [
  {
   "cell_type": "markdown",
   "metadata": {
    "id": "91MsGMTna_P9"
   },
   "source": [
    "# ECS7020P mini-project submission\n",
    "\n",
    "The mini-project has two separate components:\n",
    "\n",
    "\n",
    "1.   **Basic component** [6 marks]: Using the MLEnd London Sounds dataset, build a machine learning pipeline that takes as an input an audio segment and predicts whether the audio segment has been recorded indoors or outdoors.\n",
    "2.   **Advanced component** [10 marks]: Formulate your own machine learning problem and build a machine learning solution using the MLEnd London Sounds dataset. \n",
    "\n",
    "Your submission will consist of two Jupyter notebooks, one for the basic component and another one for advanced component. Please **name each notebook**:\n",
    "\n",
    "* ECS7020P_miniproject_basic.ipynb\n",
    "* ECS7020P_miniproject_advanced.ipynb\n",
    "\n",
    "then **zip and submit them toghether**.\n",
    "\n",
    "Each uploaded notebook should include: \n",
    "\n",
    "*   **Text cells**, describing concisely each step and results.\n",
    "*   **Code cells**, implementing each step.\n",
    "*   **Output cells**, i.e. the output from each code cell.\n",
    "\n",
    "and **should have the structure** indicated below. Notebooks might not be run, please make sure that the output cells are saved.\n",
    "\n",
    "How will we evaluate your submission?\n",
    "\n",
    "*   Conciseness in your writing (10%).\n",
    "*   Correctness in your methodology (30%).\n",
    "*   Correctness in your analysis and conclusions (30%).\n",
    "*   Completeness (10%).\n",
    "*   Originality (10%).\n",
    "*   Efforts to try something new (10%).\n",
    "\n",
    "Suggestion: Why don't you use **GitHub** to manage your project? GitHub can be used as a presentation card that showcases what you have done and gives evidence of your data science skills, knowledge and experience. \n",
    "\n",
    "Each notebook should be structured into the following 9 sections:\n"
   ]
  },
  {
   "cell_type": "markdown",
   "metadata": {
    "id": "ZaGn4ICrfqXZ"
   },
   "source": [
    "# 1 Author\n",
    "\n",
    "**Student Name**:  \n",
    "**Student ID**:  \n",
    "\n"
   ]
  },
  {
   "cell_type": "markdown",
   "metadata": {
    "id": "o38VQkcdKd6k"
   },
   "source": [
    "# 2 Problem formulation\n",
    "\n",
    "Describe the machine learning problem that you want to solve and explain what's interesting about it."
   ]
  },
  {
   "cell_type": "markdown",
   "metadata": {
    "id": "N3BwrtEdLDit"
   },
   "source": [
    "# 3 Machine Learning pipeline\n",
    "\n",
    "Describe your ML pipeline. Clearly identify its input and output, any intermediate stages (for instance, transformation -> models), and intermediate data moving from one stage to the next. It's up to you to decide which stages to include in your pipeline. "
   ]
  },
  {
   "cell_type": "markdown",
   "metadata": {
    "id": "j1nDXnzYLLH6"
   },
   "source": [
    "# 4 Transformation stage\n",
    "\n",
    "Describe any transformations, such as feature extraction. Identify input and output. Explain why you have chosen this transformation stage."
   ]
  },
  {
   "cell_type": "markdown",
   "metadata": {
    "id": "0F5_kI95LuZ2"
   },
   "source": [
    "# 5 Modelling\n",
    "\n",
    "Describe the ML model(s) that you will build. Explain why you have chosen them."
   ]
  },
  {
   "cell_type": "markdown",
   "metadata": {
    "id": "bPTSuaB9L2jU"
   },
   "source": [
    "# 6 Methodology\n",
    "\n",
    "Describe how you will train and validate your models, how model performance is assesssed (i.e. accuracy, confusion matrix, etc)"
   ]
  },
  {
   "cell_type": "markdown",
   "metadata": {
    "id": "HZQPxztuL9AW"
   },
   "source": [
    "# 7 Dataset\n",
    "\n",
    "Describe the dataset that you will use to create your models and validate them. If you need to preprocess it, do it here. Include visualisations too. You can visualise raw data samples or extracted features."
   ]
  },
  {
   "cell_type": "code",
   "execution_count": 2,
   "metadata": {},
   "outputs": [],
   "source": [
    "import numpy as np\n",
    "import pandas as pd\n",
    "import matplotlib.pyplot as plt\n",
    "import librosa.display\n",
    "import math\n",
    "\n",
    "import os, sys, re, pickle, glob\n",
    "import urllib.request\n",
    "import zipfile\n",
    "\n",
    "import IPython.display as ipd\n",
    "from tqdm import tqdm\n",
    "import librosa\n",
    "import scipy.stats as stats"
   ]
  },
  {
   "cell_type": "code",
   "execution_count": 3,
   "metadata": {},
   "outputs": [],
   "source": [
    "sample_path = 'MLEndLS/*.wav'\n",
    "files = glob.glob(sample_path)\n",
    "MLENDLS_df = pd.read_csv('./MLEndLS.csv').set_index('file_id') "
   ]
  },
  {
   "cell_type": "code",
   "execution_count": 33,
   "metadata": {
    "scrolled": true
   },
   "outputs": [
    {
     "name": "stdout",
     "output_type": "stream",
     "text": [
      "0\n",
      "100\n",
      "200\n",
      "300\n",
      "400\n",
      "500\n",
      "600\n",
      "700\n",
      "800\n",
      "900\n",
      "1000\n",
      "1100\n",
      "1200\n",
      "1300\n",
      "1400\n",
      "1500\n",
      "1600\n",
      "1700\n",
      "1800\n",
      "1900\n",
      "2000\n",
      "2100\n",
      "2200\n",
      "2300\n",
      "2400\n",
      "Done\n"
     ]
    }
   ],
   "source": [
    "import matplotlib.pyplot as plt\n",
    "\n",
    "aud_data = []\n",
    "labels = []\n",
    "\n",
    "def getPitch(x,fs,winLen=0.02):\n",
    "    #winLen = 0.02 \n",
    "    p = winLen*fs\n",
    "    frame_length = int(2**int(p-1).bit_length())\n",
    "    hop_length = frame_length//2\n",
    "    f0 = librosa.yin(y=x, fmin=300, fmax=1000, sr=fs,\n",
    "                frame_length=frame_length,hop_length=hop_length)\n",
    "    return f0\n",
    "\n",
    "for n in range(0,len(files)):\n",
    "# for n in range(15,150):\n",
    "    a, fs = librosa.load(files[n],sr=None)    \n",
    "    \n",
    "    S = np.abs(librosa.stft(a))\n",
    "\n",
    "    # Trimming to get a standard input size and reduce frquency range (after visual inspection of spectogram)\n",
    "    S = S[10:100,:536]\n",
    "    S = S.reshape(1,S.shape[0]*S.shape[1])[0]\n",
    "\n",
    "    # Filtering errored/invalid data\n",
    "    if len(S) < 90*536 : continue\n",
    "    if (n%100 == 0): print(n)\n",
    "    \n",
    "    aud_data.append(S)\n",
    "    labels.append(MLENDLS_df.loc[files[n].split('/')[-1]].in_out)\n",
    "    \n",
    "print(\"Done\")"
   ]
  },
  {
   "cell_type": "code",
   "execution_count": 34,
   "metadata": {},
   "outputs": [
    {
     "data": {
      "text/html": [
       "<div>\n",
       "<style scoped>\n",
       "    .dataframe tbody tr th:only-of-type {\n",
       "        vertical-align: middle;\n",
       "    }\n",
       "\n",
       "    .dataframe tbody tr th {\n",
       "        vertical-align: top;\n",
       "    }\n",
       "\n",
       "    .dataframe thead th {\n",
       "        text-align: right;\n",
       "    }\n",
       "</style>\n",
       "<table border=\"1\" class=\"dataframe\">\n",
       "  <thead>\n",
       "    <tr style=\"text-align: right;\">\n",
       "      <th></th>\n",
       "      <th>pc1</th>\n",
       "      <th>pc2</th>\n",
       "      <th>pc3</th>\n",
       "      <th>pc4</th>\n",
       "      <th>pc5</th>\n",
       "    </tr>\n",
       "  </thead>\n",
       "  <tbody>\n",
       "    <tr>\n",
       "      <th>1</th>\n",
       "      <td>-225.875466</td>\n",
       "      <td>-30.413585</td>\n",
       "      <td>-24.799274</td>\n",
       "      <td>-98.034485</td>\n",
       "      <td>23.855877</td>\n",
       "    </tr>\n",
       "    <tr>\n",
       "      <th>2</th>\n",
       "      <td>-109.298090</td>\n",
       "      <td>-133.198104</td>\n",
       "      <td>17.015800</td>\n",
       "      <td>27.937171</td>\n",
       "      <td>40.418684</td>\n",
       "    </tr>\n",
       "    <tr>\n",
       "      <th>3</th>\n",
       "      <td>-246.337859</td>\n",
       "      <td>27.005723</td>\n",
       "      <td>-12.768900</td>\n",
       "      <td>51.206973</td>\n",
       "      <td>50.036350</td>\n",
       "    </tr>\n",
       "    <tr>\n",
       "      <th>4</th>\n",
       "      <td>-213.374926</td>\n",
       "      <td>69.485625</td>\n",
       "      <td>187.107505</td>\n",
       "      <td>-108.240533</td>\n",
       "      <td>-117.322421</td>\n",
       "    </tr>\n",
       "    <tr>\n",
       "      <th>5</th>\n",
       "      <td>-300.415214</td>\n",
       "      <td>-2.594630</td>\n",
       "      <td>-1.983354</td>\n",
       "      <td>-20.964679</td>\n",
       "      <td>8.282350</td>\n",
       "    </tr>\n",
       "    <tr>\n",
       "      <th>...</th>\n",
       "      <td>...</td>\n",
       "      <td>...</td>\n",
       "      <td>...</td>\n",
       "      <td>...</td>\n",
       "      <td>...</td>\n",
       "    </tr>\n",
       "    <tr>\n",
       "      <th>2475</th>\n",
       "      <td>-277.373929</td>\n",
       "      <td>14.298572</td>\n",
       "      <td>-38.487936</td>\n",
       "      <td>-36.465191</td>\n",
       "      <td>64.643020</td>\n",
       "    </tr>\n",
       "    <tr>\n",
       "      <th>2476</th>\n",
       "      <td>106.790441</td>\n",
       "      <td>-46.195578</td>\n",
       "      <td>-81.706900</td>\n",
       "      <td>-39.576311</td>\n",
       "      <td>72.463081</td>\n",
       "    </tr>\n",
       "    <tr>\n",
       "      <th>2477</th>\n",
       "      <td>-177.154952</td>\n",
       "      <td>-23.065343</td>\n",
       "      <td>-53.508946</td>\n",
       "      <td>1.938133</td>\n",
       "      <td>68.998650</td>\n",
       "    </tr>\n",
       "    <tr>\n",
       "      <th>2478</th>\n",
       "      <td>-80.723152</td>\n",
       "      <td>-25.414604</td>\n",
       "      <td>-73.530950</td>\n",
       "      <td>-160.310314</td>\n",
       "      <td>85.243118</td>\n",
       "    </tr>\n",
       "    <tr>\n",
       "      <th>2479</th>\n",
       "      <td>-196.874114</td>\n",
       "      <td>15.226358</td>\n",
       "      <td>62.563864</td>\n",
       "      <td>-224.494579</td>\n",
       "      <td>-132.841307</td>\n",
       "    </tr>\n",
       "  </tbody>\n",
       "</table>\n",
       "<p>2479 rows × 5 columns</p>\n",
       "</div>"
      ],
      "text/plain": [
       "             pc1         pc2         pc3         pc4         pc5\n",
       "1    -225.875466  -30.413585  -24.799274  -98.034485   23.855877\n",
       "2    -109.298090 -133.198104   17.015800   27.937171   40.418684\n",
       "3    -246.337859   27.005723  -12.768900   51.206973   50.036350\n",
       "4    -213.374926   69.485625  187.107505 -108.240533 -117.322421\n",
       "5    -300.415214   -2.594630   -1.983354  -20.964679    8.282350\n",
       "...          ...         ...         ...         ...         ...\n",
       "2475 -277.373929   14.298572  -38.487936  -36.465191   64.643020\n",
       "2476  106.790441  -46.195578  -81.706900  -39.576311   72.463081\n",
       "2477 -177.154952  -23.065343  -53.508946    1.938133   68.998650\n",
       "2478  -80.723152  -25.414604  -73.530950 -160.310314   85.243118\n",
       "2479 -196.874114   15.226358   62.563864 -224.494579 -132.841307\n",
       "\n",
       "[2479 rows x 5 columns]"
      ]
     },
     "metadata": {},
     "output_type": "display_data"
    }
   ],
   "source": [
    "import pandas as pd\n",
    "from sklearn.decomposition import PCA\n",
    "import matplotlib.pyplot as plt\n",
    "\n",
    "numComponents = 5\n",
    "pca = PCA(n_components=numComponents)\n",
    "pca.fit(aud_data)\n",
    "\n",
    "projected = pca.transform(aud_data)\n",
    "projected = pd.DataFrame(projected,columns=['pc1','pc2','pc3','pc4','pc5'],index=range(1,len(aud_data)+1))\n",
    "# projected['label'] = labels\n",
    "display(projected)"
   ]
  },
  {
   "cell_type": "code",
   "execution_count": 39,
   "metadata": {},
   "outputs": [],
   "source": [
    "projected = projected.drop(columns=[\n",
    "#     'pc3',\n",
    "    'pc4',\n",
    "    'pc5',\n",
    "#     'pc6',\n",
    "#     'pc7'\n",
    "])"
   ]
  },
  {
   "cell_type": "code",
   "execution_count": 40,
   "metadata": {},
   "outputs": [
    {
     "name": "stdout",
     "output_type": "stream",
     "text": [
      "(1983, 3) (496, 3)\n"
     ]
    }
   ],
   "source": [
    "from sklearn.model_selection import GridSearchCV, train_test_split\n",
    "\n",
    "X_train, X_val, y_train, y_val = train_test_split(projected,labels,test_size=0.2)\n",
    "print(X_train.shape, X_val.shape)"
   ]
  },
  {
   "cell_type": "markdown",
   "metadata": {
    "id": "2qf7GN1aeXJI"
   },
   "source": [
    "# 8 Results\n",
    "\n",
    "Carry out your experiments here, explain your results."
   ]
  },
  {
   "cell_type": "code",
   "execution_count": 41,
   "metadata": {},
   "outputs": [
    {
     "name": "stdout",
     "output_type": "stream",
     "text": [
      "Hyperparameters:  SVC(C=4)\n",
      "Average accuracy:  0.6354056942218151\n",
      "Test dataset accuracy: 0.657258064516129\n"
     ]
    }
   ],
   "source": [
    "from sklearn import svm\n",
    "\n",
    "parameters = {'C':[1,2,3,4,5]}\n",
    "\n",
    "svc = svm.SVC()\n",
    "clf = GridSearchCV(svc, parameters,cv=5)\n",
    "\n",
    "clf.fit(X_train,y_train)\n",
    "\n",
    "print('Hyperparameters: ', clf.best_estimator_)\n",
    "print('Average accuracy: ', clf.best_score_)\n",
    "print('Test dataset accuracy:', clf.score(X_val, y_val))"
   ]
  },
  {
   "cell_type": "code",
   "execution_count": 42,
   "metadata": {},
   "outputs": [
    {
     "name": "stdout",
     "output_type": "stream",
     "text": [
      "(1983, 3) (496, 3)\n",
      "Training Accuracy 0.7155824508320726\n",
      "Validation  Accuracy 0.6592741935483871\n"
     ]
    }
   ],
   "source": [
    "from sklearn.ensemble import RandomForestClassifier\n",
    "from sklearn.datasets import make_classification\n",
    "\n",
    "from sklearn.model_selection import GridSearchCV, train_test_split\n",
    "\n",
    "X_train, X_val, y_train, y_val = train_test_split(projected,labels,test_size=0.2)\n",
    "print(X_train.shape, X_val.shape)\n",
    "\n",
    "clf = RandomForestClassifier(max_depth=7)\n",
    "clf.fit(X_train,y_train)\n",
    "\n",
    "yt_p = clf.predict(X_train)\n",
    "yv_p = clf.predict(X_val)\n",
    "\n",
    "print('Training Accuracy', np.mean(yt_p==y_train))\n",
    "print('Validation  Accuracy', np.mean(yv_p==y_val))"
   ]
  },
  {
   "cell_type": "code",
   "execution_count": 43,
   "metadata": {},
   "outputs": [
    {
     "name": "stdout",
     "output_type": "stream",
     "text": [
      "Hyperparameters:  RandomForestClassifier(max_depth=7, max_features=1, n_estimators=200)\n",
      "Average accuracy:  0.6298310561534742\n",
      "Test dataset accuracy: 0.6653225806451613\n"
     ]
    }
   ],
   "source": [
    "parameters = {'n_estimators':[50,200,300,500], 'max_features':[0.01,0.05,1], 'max_depth':[7,8]}\n",
    "\n",
    "rfc = RandomForestClassifier(max_depth=7)\n",
    "clf = GridSearchCV(rfc, parameters,cv=5)\n",
    "\n",
    "clf.fit(X_train,y_train)\n",
    "\n",
    "print('Hyperparameters: ', clf.best_estimator_)\n",
    "print('Average accuracy: ', clf.best_score_)\n",
    "print('Test dataset accuracy:', clf.score(X_val, y_val))"
   ]
  },
  {
   "cell_type": "code",
   "execution_count": 267,
   "metadata": {},
   "outputs": [
    {
     "name": "stdout",
     "output_type": "stream",
     "text": [
      "Training Accuracy 0.7594553706505295\n",
      "Validation  Accuracy 0.7358870967741935\n",
      "The support vectors are (1202, 5)\n"
     ]
    }
   ],
   "source": [
    "model  = svm.SVC(C=1)\n",
    "model.fit(X_train,y_train)\n",
    "\n",
    "yt_p = model.predict(X_train)\n",
    "yv_p = model.predict(X_val)\n",
    "\n",
    "print('Training Accuracy', np.mean(yt_p==y_train))\n",
    "print('Validation  Accuracy', np.mean(yv_p==y_val))\n",
    "print('The support vectors are', model.support_vectors_.shape)"
   ]
  },
  {
   "cell_type": "code",
   "execution_count": 100,
   "metadata": {},
   "outputs": [
    {
     "name": "stdout",
     "output_type": "stream",
     "text": [
      "0.5244675978932907\n",
      "0.5194272701829377\n"
     ]
    }
   ],
   "source": [
    "from sklearn.ensemble import RandomForestClassifier\n",
    "from sklearn.tree import DecisionTreeClassifier\n",
    "from sklearn.model_selection import cross_val_score\n",
    "\n",
    "clf = DecisionTreeClassifier(max_depth=None, min_samples_split=102,\n",
    "     random_state=0)\n",
    "scores = cross_val_score(clf, X_train, y_train, cv=5)\n",
    "print(scores.mean())\n",
    "\n",
    "clf = RandomForestClassifier(n_estimators=55, max_depth=None,\n",
    "     min_samples_split=2, random_state=0)\n",
    "scores = cross_val_score(clf, X_train, y_train, cv=5)\n",
    "print(scores.mean())"
   ]
  },
  {
   "cell_type": "markdown",
   "metadata": {
    "id": "fSrJCR_cekPO"
   },
   "source": [
    "# 9 Conclusions\n",
    "\n",
    "Your conclusions, improvements, etc should go here"
   ]
  }
 ],
 "metadata": {
  "colab": {
   "provenance": []
  },
  "kernelspec": {
   "display_name": "Python 3 (ipykernel)",
   "language": "python",
   "name": "python3"
  },
  "language_info": {
   "codemirror_mode": {
    "name": "ipython",
    "version": 3
   },
   "file_extension": ".py",
   "mimetype": "text/x-python",
   "name": "python",
   "nbconvert_exporter": "python",
   "pygments_lexer": "ipython3",
   "version": "3.10.4"
  }
 },
 "nbformat": 4,
 "nbformat_minor": 1
}
