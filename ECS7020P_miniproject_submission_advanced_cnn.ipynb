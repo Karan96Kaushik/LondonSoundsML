{
 "cells": [
  {
   "cell_type": "markdown",
   "metadata": {
    "id": "91MsGMTna_P9"
   },
   "source": [
    "# ECS7020P mini-project submission\n",
    "\n",
    "The mini-project has two separate components:\n",
    "\n",
    "\n",
    "1.   **Basic component** [6 marks]: Using the MLEnd London Sounds dataset, build a machine learning pipeline that takes as an input an audio segment and predicts whether the audio segment has been recorded indoors or outdoors.\n",
    "2.   **Advanced component** [10 marks]: Formulate your own machine learning problem and build a machine learning solution using the MLEnd London Sounds dataset. \n",
    "\n",
    "Your submission will consist of two Jupyter notebooks, one for the basic component and another one for advanced component. Please **name each notebook**:\n",
    "\n",
    "* ECS7020P_miniproject_basic.ipynb\n",
    "* ECS7020P_miniproject_advanced.ipynb\n",
    "\n",
    "then **zip and submit them toghether**.\n",
    "\n",
    "Each uploaded notebook should include: \n",
    "\n",
    "*   **Text cells**, describing concisely each step and results.\n",
    "*   **Code cells**, implementing each step.\n",
    "*   **Output cells**, i.e. the output from each code cell.\n",
    "\n",
    "and **should have the structure** indicated below. Notebooks might not be run, please make sure that the output cells are saved.\n",
    "\n",
    "How will we evaluate your submission?\n",
    "\n",
    "*   Conciseness in your writing (10%).\n",
    "*   Correctness in your methodology (30%).\n",
    "*   Correctness in your analysis and conclusions (30%).\n",
    "*   Completeness (10%).\n",
    "*   Originality (10%).\n",
    "*   Efforts to try something new (10%).\n",
    "\n",
    "Suggestion: Why don't you use **GitHub** to manage your project? GitHub can be used as a presentation card that showcases what you have done and gives evidence of your data science skills, knowledge and experience. \n",
    "\n",
    "Each notebook should be structured into the following 9 sections:\n"
   ]
  },
  {
   "cell_type": "markdown",
   "metadata": {
    "id": "ZaGn4ICrfqXZ"
   },
   "source": [
    "# 1 Author\n",
    "\n",
    "**Student Name**:  Karan Kaus\n",
    "**Student ID**:  \n",
    "\n"
   ]
  },
  {
   "cell_type": "markdown",
   "metadata": {
    "id": "o38VQkcdKd6k"
   },
   "source": [
    "# 2 Problem formulation\n",
    "\n",
    "Describe the machine learning problem that you want to solve and explain what's interesting about it."
   ]
  },
  {
   "cell_type": "markdown",
   "metadata": {
    "id": "N3BwrtEdLDit"
   },
   "source": [
    "# 3 Machine Learning pipeline\n",
    "\n",
    "Describe your ML pipeline. Clearly identify its input and output, any intermediate stages (for instance, transformation -> models), and intermediate data moving from one stage to the next. It's up to you to decide which stages to include in your pipeline. "
   ]
  },
  {
   "cell_type": "markdown",
   "metadata": {
    "id": "j1nDXnzYLLH6"
   },
   "source": [
    "# 4 Transformation stage\n",
    "\n",
    "Describe any transformations, such as feature extraction. Identify input and output. Explain why you have chosen this transformation stage."
   ]
  },
  {
   "cell_type": "markdown",
   "metadata": {
    "id": "0F5_kI95LuZ2"
   },
   "source": [
    "# 5 Modelling\n",
    "\n",
    "Describe the ML model(s) that you will build. Explain why you have chosen them."
   ]
  },
  {
   "cell_type": "markdown",
   "metadata": {
    "id": "bPTSuaB9L2jU"
   },
   "source": [
    "# 6 Methodology\n",
    "\n",
    "Describe how you will train and validate your models, how model performance is assesssed (i.e. accuracy, confusion matrix, etc)"
   ]
  },
  {
   "cell_type": "markdown",
   "metadata": {
    "id": "HZQPxztuL9AW"
   },
   "source": [
    "# 7 Dataset\n",
    "\n",
    "Describe the dataset that you will use to create your models and validate them. If you need to preprocess it, do it here. Include visualisations too. You can visualise raw data samples or extracted features."
   ]
  },
  {
   "cell_type": "code",
   "execution_count": 1,
   "metadata": {},
   "outputs": [],
   "source": [
    "import numpy as np\n",
    "import pandas as pd\n",
    "import matplotlib.pyplot as plt\n",
    "import librosa.display\n",
    "import math\n",
    "\n",
    "import os, sys, re, pickle, glob\n",
    "import urllib.request\n",
    "import zipfile\n",
    "\n",
    "import IPython.display as ipd\n",
    "from tqdm import tqdm\n",
    "import librosa\n",
    "import scipy.stats as stats\n",
    "\n",
    "from sklearn.preprocessing import OneHotEncoder\n",
    "from sklearn.compose import make_column_transformer"
   ]
  },
  {
   "cell_type": "code",
   "execution_count": 11,
   "metadata": {},
   "outputs": [
    {
     "name": "stdout",
     "output_type": "stream",
     "text": [
      "ECS7020P_miniproject_submission_2_CNN.ipynb\r\n",
      "ECS7020P_miniproject_submission_2_pitch-Copy1.ipynb\r\n",
      "ECS7020P_miniproject_submission_7_dec_stft.ipynb\r\n",
      "ECS7020P_miniproject_submission_7_dec_testing.ipynb\r\n",
      "ECS7020P_miniproject_submission_8_Dec_MFCC.ipynb\r\n",
      "ECS7020P_miniproject_submission_advanced_cnn.ipynb\r\n",
      "ECS7020P_miniproject_submission_advanced_stft.ipynb\r\n",
      "ECS7020P_miniproject_submission_base.ipynb\r\n",
      "mel_spectrograms\r\n",
      "MLEnd_2022_Starter_kit.ipynb\r\n",
      "MLEndLS\r\n",
      "MLEndLS.csv\r\n"
     ]
    }
   ],
   "source": [
    "# !pip3 install seaborn\n",
    "# !pip3 install tensorflow\n",
    "import seaborn as sns\n",
    "import soundfile as sf\n",
    "import os, random, librosa\n",
    "from tqdm.auto import tqdm\n",
    "from IPython import display\n",
    "import tensorflow as tf\n",
    "from tensorflow.keras import layers, models, utils, callbacks\n",
    "from keras.preprocessing.image import ImageDataGenerator\n",
    "sns.set_style('darkgrid')"
   ]
  },
  {
   "cell_type": "code",
   "execution_count": 2,
   "metadata": {},
   "outputs": [],
   "source": [
    "sample_path = 'MLEndLS/*.wav'\n",
    "files = glob.glob(sample_path)\n",
    "MLENDLS_df = pd.read_csv('./MLEndLS.csv').set_index('file_id') "
   ]
  },
  {
   "cell_type": "code",
   "execution_count": 3,
   "metadata": {},
   "outputs": [
    {
     "data": {
      "text/html": [
       "<div>\n",
       "<style scoped>\n",
       "    .dataframe tbody tr th:only-of-type {\n",
       "        vertical-align: middle;\n",
       "    }\n",
       "\n",
       "    .dataframe tbody tr th {\n",
       "        vertical-align: top;\n",
       "    }\n",
       "\n",
       "    .dataframe thead th {\n",
       "        text-align: right;\n",
       "    }\n",
       "</style>\n",
       "<table border=\"1\" class=\"dataframe\">\n",
       "  <thead>\n",
       "    <tr style=\"text-align: right;\">\n",
       "      <th></th>\n",
       "      <th>in_out_indoor</th>\n",
       "      <th>in_out_outdoor</th>\n",
       "      <th>area_Euston</th>\n",
       "      <th>area_british</th>\n",
       "      <th>area_campus</th>\n",
       "      <th>area_kensington</th>\n",
       "      <th>area_southbank</th>\n",
       "      <th>area_westend</th>\n",
       "    </tr>\n",
       "  </thead>\n",
       "  <tbody>\n",
       "    <tr>\n",
       "      <th>0</th>\n",
       "      <td>0.0</td>\n",
       "      <td>1.0</td>\n",
       "      <td>0.0</td>\n",
       "      <td>1.0</td>\n",
       "      <td>0.0</td>\n",
       "      <td>0.0</td>\n",
       "      <td>0.0</td>\n",
       "      <td>0.0</td>\n",
       "    </tr>\n",
       "    <tr>\n",
       "      <th>1</th>\n",
       "      <td>1.0</td>\n",
       "      <td>0.0</td>\n",
       "      <td>0.0</td>\n",
       "      <td>0.0</td>\n",
       "      <td>0.0</td>\n",
       "      <td>1.0</td>\n",
       "      <td>0.0</td>\n",
       "      <td>0.0</td>\n",
       "    </tr>\n",
       "    <tr>\n",
       "      <th>2</th>\n",
       "      <td>0.0</td>\n",
       "      <td>1.0</td>\n",
       "      <td>0.0</td>\n",
       "      <td>0.0</td>\n",
       "      <td>1.0</td>\n",
       "      <td>0.0</td>\n",
       "      <td>0.0</td>\n",
       "      <td>0.0</td>\n",
       "    </tr>\n",
       "    <tr>\n",
       "      <th>3</th>\n",
       "      <td>1.0</td>\n",
       "      <td>0.0</td>\n",
       "      <td>0.0</td>\n",
       "      <td>0.0</td>\n",
       "      <td>0.0</td>\n",
       "      <td>1.0</td>\n",
       "      <td>0.0</td>\n",
       "      <td>0.0</td>\n",
       "    </tr>\n",
       "    <tr>\n",
       "      <th>4</th>\n",
       "      <td>0.0</td>\n",
       "      <td>1.0</td>\n",
       "      <td>0.0</td>\n",
       "      <td>0.0</td>\n",
       "      <td>1.0</td>\n",
       "      <td>0.0</td>\n",
       "      <td>0.0</td>\n",
       "      <td>0.0</td>\n",
       "    </tr>\n",
       "    <tr>\n",
       "      <th>...</th>\n",
       "      <td>...</td>\n",
       "      <td>...</td>\n",
       "      <td>...</td>\n",
       "      <td>...</td>\n",
       "      <td>...</td>\n",
       "      <td>...</td>\n",
       "      <td>...</td>\n",
       "      <td>...</td>\n",
       "    </tr>\n",
       "    <tr>\n",
       "      <th>2495</th>\n",
       "      <td>0.0</td>\n",
       "      <td>1.0</td>\n",
       "      <td>0.0</td>\n",
       "      <td>0.0</td>\n",
       "      <td>0.0</td>\n",
       "      <td>0.0</td>\n",
       "      <td>0.0</td>\n",
       "      <td>1.0</td>\n",
       "    </tr>\n",
       "    <tr>\n",
       "      <th>2496</th>\n",
       "      <td>0.0</td>\n",
       "      <td>1.0</td>\n",
       "      <td>0.0</td>\n",
       "      <td>0.0</td>\n",
       "      <td>1.0</td>\n",
       "      <td>0.0</td>\n",
       "      <td>0.0</td>\n",
       "      <td>0.0</td>\n",
       "    </tr>\n",
       "    <tr>\n",
       "      <th>2497</th>\n",
       "      <td>1.0</td>\n",
       "      <td>0.0</td>\n",
       "      <td>0.0</td>\n",
       "      <td>0.0</td>\n",
       "      <td>0.0</td>\n",
       "      <td>0.0</td>\n",
       "      <td>0.0</td>\n",
       "      <td>1.0</td>\n",
       "    </tr>\n",
       "    <tr>\n",
       "      <th>2498</th>\n",
       "      <td>1.0</td>\n",
       "      <td>0.0</td>\n",
       "      <td>0.0</td>\n",
       "      <td>1.0</td>\n",
       "      <td>0.0</td>\n",
       "      <td>0.0</td>\n",
       "      <td>0.0</td>\n",
       "      <td>0.0</td>\n",
       "    </tr>\n",
       "    <tr>\n",
       "      <th>2499</th>\n",
       "      <td>1.0</td>\n",
       "      <td>0.0</td>\n",
       "      <td>0.0</td>\n",
       "      <td>1.0</td>\n",
       "      <td>0.0</td>\n",
       "      <td>0.0</td>\n",
       "      <td>0.0</td>\n",
       "      <td>0.0</td>\n",
       "    </tr>\n",
       "  </tbody>\n",
       "</table>\n",
       "<p>2500 rows × 8 columns</p>\n",
       "</div>"
      ],
      "text/plain": [
       "     in_out_indoor in_out_outdoor area_Euston area_british area_campus  \\\n",
       "0              0.0            1.0         0.0          1.0         0.0   \n",
       "1              1.0            0.0         0.0          0.0         0.0   \n",
       "2              0.0            1.0         0.0          0.0         1.0   \n",
       "3              1.0            0.0         0.0          0.0         0.0   \n",
       "4              0.0            1.0         0.0          0.0         1.0   \n",
       "...            ...            ...         ...          ...         ...   \n",
       "2495           0.0            1.0         0.0          0.0         0.0   \n",
       "2496           0.0            1.0         0.0          0.0         1.0   \n",
       "2497           1.0            0.0         0.0          0.0         0.0   \n",
       "2498           1.0            0.0         0.0          1.0         0.0   \n",
       "2499           1.0            0.0         0.0          1.0         0.0   \n",
       "\n",
       "     area_kensington area_southbank area_westend  \n",
       "0                0.0            0.0          0.0  \n",
       "1                1.0            0.0          0.0  \n",
       "2                0.0            0.0          0.0  \n",
       "3                1.0            0.0          0.0  \n",
       "4                0.0            0.0          0.0  \n",
       "...              ...            ...          ...  \n",
       "2495             0.0            0.0          1.0  \n",
       "2496             0.0            0.0          0.0  \n",
       "2497             0.0            0.0          1.0  \n",
       "2498             0.0            0.0          0.0  \n",
       "2499             0.0            0.0          0.0  \n",
       "\n",
       "[2500 rows x 8 columns]"
      ]
     },
     "metadata": {},
     "output_type": "display_data"
    },
    {
     "data": {
      "text/plain": [
       "array(['street', 'dinosaur', 'square', ..., 'national', 'room12',\n",
       "       'room12'], dtype=object)"
      ]
     },
     "metadata": {},
     "output_type": "display_data"
    }
   ],
   "source": [
    "column_transformer = make_column_transformer(\n",
    "    (OneHotEncoder(), ['in_out', 'area']),\n",
    "    remainder='passthrough',\n",
    "    verbose_feature_names_out=False\n",
    ")\n",
    "\n",
    "input_data = column_transformer.fit_transform(MLENDLS_df)\n",
    "input_data = pd.DataFrame(data=input_data, columns=column_transformer.get_feature_names_out())\n",
    "\n",
    "labels = MLENDLS_df['spot'].to_numpy()\n",
    "\n",
    "input_data = input_data.drop(columns=[\n",
    "    'Participant',\n",
    "    'spot',\n",
    "])\n",
    "\n",
    "display(input_data)\n",
    "display(labels)"
   ]
  },
  {
   "cell_type": "code",
   "execution_count": 4,
   "metadata": {},
   "outputs": [],
   "source": [
    "class config:\n",
    "    CLASSES = np.array(MLENDLS_df['spot'].unique())\n",
    "    MAX_EPOCHS = 500"
   ]
  },
  {
   "cell_type": "code",
   "execution_count": 5,
   "metadata": {
    "scrolled": true
   },
   "outputs": [
    {
     "name": "stderr",
     "output_type": "stream",
     "text": [
      "100%|██████████████████████████████████████| 2500/2500 [10:31<00:00,  3.96it/s]"
     ]
    },
    {
     "name": "stdout",
     "output_type": "stream",
     "text": [
      "done\n"
     ]
    },
    {
     "name": "stderr",
     "output_type": "stream",
     "text": [
      "\n"
     ]
    }
   ],
   "source": [
    "def get_mel_spectrogram(sound_wave, sr, spec_h=128, spec_w=128, length=1):\n",
    "    NUM_MELS = spec_h\n",
    "    HOP_LENGTH = int(sr * length / (spec_w - 1)) \n",
    "    mel_spec = librosa.feature.melspectrogram(y=sound_wave, sr=sr, hop_length=HOP_LENGTH, n_mels=NUM_MELS)\n",
    "    mel_spec_db = librosa.power_to_db(mel_spec, ref=np.max)\n",
    "    return mel_spec_db\n",
    "\n",
    "class_distribution = []\n",
    "spectrogram_samples = []\n",
    "audio_samples = []\n",
    "\n",
    "DATA = 'mel_spectrograms'\n",
    "\n",
    "if not os.path.exists(DATA):\n",
    "    os.mkdir(DATA)\n",
    "\n",
    "for file in tqdm(files):\n",
    "    fileID = file.split('/')[-1]\n",
    "    file_name = file.split('/')[-1]\n",
    "    \n",
    "    meta_info = MLENDLS_df.loc[fileID]\n",
    "    \n",
    "    dst_dir = os.path.join(DATA, meta_info['spot'])\n",
    "    \n",
    "    if not os.path.exists(dst_dir):\n",
    "        os.mkdir(dst_dir)    \n",
    "\n",
    "    waveform, sr = librosa.load(file)\n",
    "    waveform = waveform[:143766]\n",
    "    \n",
    "    if len(waveform) < 143766: continue\n",
    "\n",
    "    class_distribution.append(meta_info['spot'])\n",
    "    dst_path = f\"{os.path.join(dst_dir, file_name)}.png\"\n",
    "    \n",
    "    plt.imsave(dst_path, get_mel_spectrogram(waveform, sr), cmap='gray')\n",
    "\n",
    "    spectrogram_samples.append(dst_path)\n",
    "    audio_samples.append(file_name)\n",
    "\n",
    "print('done')"
   ]
  },
  {
   "cell_type": "code",
   "execution_count": 6,
   "metadata": {},
   "outputs": [
    {
     "ename": "NameError",
     "evalue": "name 'read_and_pad_sound_wave' is not defined",
     "output_type": "error",
     "traceback": [
      "\u001b[0;31m---------------------------------------------------------------------------\u001b[0m",
      "\u001b[0;31mNameError\u001b[0m                                 Traceback (most recent call last)",
      "Input \u001b[0;32mIn [6]\u001b[0m, in \u001b[0;36m<cell line: 1>\u001b[0;34m()\u001b[0m\n\u001b[1;32m      1\u001b[0m \u001b[38;5;28;01mfor\u001b[39;00m i \u001b[38;5;129;01min\u001b[39;00m \u001b[38;5;28mrange\u001b[39m(\u001b[38;5;241m10\u001b[39m):\n\u001b[1;32m      2\u001b[0m     fig, ax \u001b[38;5;241m=\u001b[39m plt\u001b[38;5;241m.\u001b[39msubplots(\u001b[38;5;241m1\u001b[39m,\u001b[38;5;241m2\u001b[39m, figsize\u001b[38;5;241m=\u001b[39m(\u001b[38;5;241m20\u001b[39m, \u001b[38;5;241m4\u001b[39m))\n\u001b[0;32m----> 3\u001b[0m     ax[\u001b[38;5;241m0\u001b[39m]\u001b[38;5;241m.\u001b[39mplot(\u001b[43mread_and_pad_sound_wave\u001b[49m(audio_samples[i])[\u001b[38;5;241m0\u001b[39m])\n\u001b[1;32m      4\u001b[0m     ax[\u001b[38;5;241m1\u001b[39m]\u001b[38;5;241m.\u001b[39mimshow(plt\u001b[38;5;241m.\u001b[39mimread(spectrogram_samples[i]), cmap\u001b[38;5;241m=\u001b[39m\u001b[38;5;124m'\u001b[39m\u001b[38;5;124mgray\u001b[39m\u001b[38;5;124m'\u001b[39m)\n\u001b[1;32m      5\u001b[0m     fig\u001b[38;5;241m.\u001b[39msuptitle(config\u001b[38;5;241m.\u001b[39mCLASSES[i], fontsize\u001b[38;5;241m=\u001b[39m\u001b[38;5;241m15\u001b[39m)\n",
      "\u001b[0;31mNameError\u001b[0m: name 'read_and_pad_sound_wave' is not defined"
     ]
    },
    {
     "data": {
      "image/png": "[encoded data removed]",
      "text/plain": [
       "<Figure size 1440x288 with 2 Axes>"
      ]
     },
     "metadata": {
      "needs_background": "light"
     },
     "output_type": "display_data"
    }
   ],
   "source": [
    "for i in range(10):\n",
    "    fig, ax = plt.subplots(1,2, figsize=(20, 4))\n",
    "    ax[0].plot(read_and_pad_sound_wave(audio_samples[i])[0])\n",
    "    ax[1].imshow(plt.imread(spectrogram_samples[i]), cmap='gray')\n",
    "    fig.suptitle(config.CLASSES[i], fontsize=15);"
   ]
  },
  {
   "cell_type": "code",
   "execution_count": 13,
   "metadata": {},
   "outputs": [
    {
     "data": {
      "image/png": "[encoded data removed]",
      "text/plain": [
       "<Figure size 1440x432 with 1 Axes>"
      ]
     },
     "metadata": {},
     "output_type": "display_data"
    }
   ],
   "source": [
    "fig, ax = plt.subplots(figsize=(20, 6))\n",
    "pd.Series(class_distribution).value_counts().plot.bar()\n",
    "fig.suptitle('Class Distribution', fontsize=24);"
   ]
  },
  {
   "cell_type": "code",
   "execution_count": 12,
   "metadata": {},
   "outputs": [
    {
     "name": "stdout",
     "output_type": "stream",
     "text": [
      "Found 2235 images belonging to 32 classes.\n",
      "Found 236 images belonging to 32 classes.\n"
     ]
    }
   ],
   "source": [
    "image_size = (832, 128, 1)\n",
    "datagen = ImageDataGenerator(validation_split=0.1)\n",
    "\n",
    "training_set = datagen.flow_from_directory(\n",
    "    DATA, target_size=image_size[:2],  batch_size=32, class_mode='categorical', color_mode='grayscale', subset='training'\n",
    ")\n",
    "validation_set = datagen.flow_from_directory(\n",
    "    DATA, target_size=image_size[:2],  batch_size=32, class_mode='categorical', color_mode='grayscale', subset='validation'\n",
    ")"
   ]
  },
  {
   "cell_type": "code",
   "execution_count": 14,
   "metadata": {},
   "outputs": [
    {
     "name": "stdout",
     "output_type": "stream",
     "text": [
      "Model: \"sequential\"\n",
      "_________________________________________________________________\n",
      " Layer (type)                Output Shape              Param #   \n",
      "=================================================================\n",
      " conv2d (Conv2D)             (None, 128, 128, 32)      320       \n",
      "                                                                 \n",
      " conv2d_1 (Conv2D)           (None, 128, 128, 32)      9248      \n",
      "                                                                 \n",
      " max_pooling2d (MaxPooling2D  (None, 64, 64, 32)       0         \n",
      " )                                                               \n",
      "                                                                 \n",
      " dropout (Dropout)           (None, 64, 64, 32)        0         \n",
      "                                                                 \n",
      " conv2d_2 (Conv2D)           (None, 64, 64, 64)        18496     \n",
      "                                                                 \n",
      " conv2d_3 (Conv2D)           (None, 64, 64, 64)        36928     \n",
      "                                                                 \n",
      " max_pooling2d_1 (MaxPooling  (None, 32, 32, 64)       0         \n",
      " 2D)                                                             \n",
      "                                                                 \n",
      " dropout_1 (Dropout)         (None, 32, 32, 64)        0         \n",
      "                                                                 \n",
      " global_average_pooling2d (G  (None, 64)               0         \n",
      " lobalAveragePooling2D)                                          \n",
      "                                                                 \n",
      " dense (Dense)               (None, 32)                2080      \n",
      "                                                                 \n",
      "=================================================================\n",
      "Total params: 67,072\n",
      "Trainable params: 67,072\n",
      "Non-trainable params: 0\n",
      "_________________________________________________________________\n"
     ]
    },
    {
     "name": "stderr",
     "output_type": "stream",
     "text": [
      "2022-12-09 10:04:10.850846: I tensorflow/compiler/xla/stream_executor/cuda/cuda_gpu_executor.cc:981] successful NUMA node read from SysFS had negative value (-1), but there must be at least one NUMA node, so returning NUMA node zero\n",
      "2022-12-09 10:04:10.851193: W tensorflow/compiler/xla/stream_executor/platform/default/dso_loader.cc:64] Could not load dynamic library 'libcudart.so.11.0'; dlerror: libcudart.so.11.0: cannot open shared object file: No such file or directory\n",
      "2022-12-09 10:04:10.851316: W tensorflow/compiler/xla/stream_executor/platform/default/dso_loader.cc:64] Could not load dynamic library 'libcublas.so.11'; dlerror: libcublas.so.11: cannot open shared object file: No such file or directory\n",
      "2022-12-09 10:04:10.851408: W tensorflow/compiler/xla/stream_executor/platform/default/dso_loader.cc:64] Could not load dynamic library 'libcublasLt.so.11'; dlerror: libcublasLt.so.11: cannot open shared object file: No such file or directory\n",
      "2022-12-09 10:04:10.851497: W tensorflow/compiler/xla/stream_executor/platform/default/dso_loader.cc:64] Could not load dynamic library 'libcufft.so.10'; dlerror: libcufft.so.10: cannot open shared object file: No such file or directory\n",
      "2022-12-09 10:04:10.851945: W tensorflow/compiler/xla/stream_executor/platform/default/dso_loader.cc:64] Could not load dynamic library 'libcurand.so.10'; dlerror: libcurand.so.10: cannot open shared object file: No such file or directory\n",
      "2022-12-09 10:04:10.852024: W tensorflow/compiler/xla/stream_executor/platform/default/dso_loader.cc:64] Could not load dynamic library 'libcusolver.so.11'; dlerror: libcusolver.so.11: cannot open shared object file: No such file or directory\n",
      "2022-12-09 10:04:10.852093: W tensorflow/compiler/xla/stream_executor/platform/default/dso_loader.cc:64] Could not load dynamic library 'libcusparse.so.11'; dlerror: libcusparse.so.11: cannot open shared object file: No such file or directory\n",
      "2022-12-09 10:04:10.852164: W tensorflow/compiler/xla/stream_executor/platform/default/dso_loader.cc:64] Could not load dynamic library 'libcudnn.so.8'; dlerror: libcudnn.so.8: cannot open shared object file: No such file or directory\n",
      "2022-12-09 10:04:10.852174: W tensorflow/core/common_runtime/gpu/gpu_device.cc:1934] Cannot dlopen some GPU libraries. Please make sure the missing libraries mentioned above are installed properly if you would like to use GPU. Follow the guide at https://www.tensorflow.org/install/gpu for how to download and setup the required libraries for your platform.\n",
      "Skipping registering GPU devices...\n",
      "2022-12-09 10:04:10.852735: I tensorflow/core/platform/cpu_feature_guard.cc:193] This TensorFlow binary is optimized with oneAPI Deep Neural Network Library (oneDNN) to use the following CPU instructions in performance-critical operations:  AVX2 FMA\n",
      "To enable them in other operations, rebuild TensorFlow with the appropriate compiler flags.\n"
     ]
    }
   ],
   "source": [
    "model = models.Sequential([\n",
    "    layers.Conv2D(32, 3, activation='relu', input_shape=image_size, padding='same'),\n",
    "    layers.Conv2D(32, 3, activation='relu', padding='same'),\n",
    "    layers.MaxPooling2D(padding='same'),\n",
    "    layers.Dropout(0.25),\n",
    "    layers.Conv2D(64, 3, activation='relu', padding='same'),\n",
    "    layers.Conv2D(64, 3, activation='relu', padding='same'),\n",
    "    layers.MaxPooling2D(padding='same'),\n",
    "    layers.Dropout(0.25),\n",
    "    layers.GlobalAveragePooling2D(),\n",
    "    layers.Dense(len(config.CLASSES), activation='softmax'),\n",
    "])\n",
    "\n",
    "model.summary()\n",
    "model.compile(\n",
    "    optimizer='adam',\n",
    "    loss='categorical_crossentropy',\n",
    "    metrics=['accuracy'],\n",
    ")"
   ]
  },
  {
   "cell_type": "code",
   "execution_count": 15,
   "metadata": {},
   "outputs": [
    {
     "name": "stdout",
     "output_type": "stream",
     "text": [
      "You must install pydot (`pip install pydot`) and install graphviz (see instructions at https://graphviz.gitlab.io/download/) for plot_model to work.\n"
     ]
    }
   ],
   "source": [
    "utils.plot_model(model, show_shapes=True, expand_nested=True)"
   ]
  },
  {
   "cell_type": "code",
   "execution_count": null,
   "metadata": {
    "scrolled": false
   },
   "outputs": [
    {
     "name": "stdout",
     "output_type": "stream",
     "text": [
      "Epoch 1/500\n",
      "70/70 [==============================] - 53s 744ms/step - loss: 4.0524 - accuracy: 0.0564 - val_loss: 3.2822 - val_accuracy: 0.0890 - lr: 0.0010\n",
      "Epoch 2/500\n",
      "70/70 [==============================] - 57s 808ms/step - loss: 3.2599 - accuracy: 0.0707 - val_loss: 3.2816 - val_accuracy: 0.0551 - lr: 0.0010\n",
      "Epoch 3/500\n",
      "70/70 [==============================] - 56s 803ms/step - loss: 3.2442 - accuracy: 0.0694 - val_loss: 3.2242 - val_accuracy: 0.0890 - lr: 0.0010\n",
      "Epoch 4/500\n",
      "70/70 [==============================] - 55s 788ms/step - loss: 3.2245 - accuracy: 0.0931 - val_loss: 3.1522 - val_accuracy: 0.1017 - lr: 0.0010\n",
      "Epoch 5/500\n",
      "70/70 [==============================] - 56s 797ms/step - loss: 3.1800 - accuracy: 0.1056 - val_loss: 3.0756 - val_accuracy: 0.1568 - lr: 0.0010\n",
      "Epoch 6/500\n",
      "70/70 [==============================] - 56s 796ms/step - loss: 3.1509 - accuracy: 0.1114 - val_loss: 3.0473 - val_accuracy: 0.1568 - lr: 0.0010\n",
      "Epoch 7/500\n",
      "70/70 [==============================] - 57s 814ms/step - loss: 3.1125 - accuracy: 0.1163 - val_loss: 3.0319 - val_accuracy: 0.1568 - lr: 0.0010\n",
      "Epoch 8/500\n",
      "70/70 [==============================] - 62s 882ms/step - loss: 3.0700 - accuracy: 0.1293 - val_loss: 2.9884 - val_accuracy: 0.1864 - lr: 0.0010\n",
      "Epoch 9/500\n",
      "70/70 [==============================] - 71s 1s/step - loss: 3.0291 - accuracy: 0.1378 - val_loss: 2.9636 - val_accuracy: 0.1822 - lr: 0.0010\n",
      "Epoch 10/500\n",
      "70/70 [==============================] - 69s 988ms/step - loss: 2.9824 - accuracy: 0.1521 - val_loss: 2.9062 - val_accuracy: 0.1695 - lr: 0.0010\n",
      "Epoch 11/500\n",
      "70/70 [==============================] - 72s 1s/step - loss: 2.8965 - accuracy: 0.1691 - val_loss: 2.7613 - val_accuracy: 0.2076 - lr: 0.0010\n",
      "Epoch 12/500\n",
      "70/70 [==============================] - 72s 1s/step - loss: 2.8466 - accuracy: 0.1727 - val_loss: 2.8010 - val_accuracy: 0.1822 - lr: 0.0010\n",
      "Epoch 13/500\n",
      "70/70 [==============================] - 69s 990ms/step - loss: 2.7844 - accuracy: 0.1982 - val_loss: 2.6532 - val_accuracy: 0.2627 - lr: 0.0010\n",
      "Epoch 14/500\n",
      "70/70 [==============================] - 74s 1s/step - loss: 2.7411 - accuracy: 0.2076 - val_loss: 2.7190 - val_accuracy: 0.2373 - lr: 0.0010\n",
      "Epoch 15/500\n",
      "70/70 [==============================] - ETA: 0s - loss: 2.6715 - accuracy: 0.2255\n",
      "Epoch 15: ReduceLROnPlateau reducing learning rate to 0.00010000000474974513.\n",
      "70/70 [==============================] - 72s 1s/step - loss: 2.6715 - accuracy: 0.2255 - val_loss: 2.6659 - val_accuracy: 0.2331 - lr: 0.0010\n",
      "Epoch 16/500\n",
      "70/70 [==============================] - 72s 1s/step - loss: 2.5568 - accuracy: 0.2662 - val_loss: 2.5354 - val_accuracy: 0.2797 - lr: 1.0000e-04\n",
      "Epoch 17/500\n",
      "70/70 [==============================] - 71s 1s/step - loss: 2.5053 - accuracy: 0.2895 - val_loss: 2.4964 - val_accuracy: 0.2797 - lr: 1.0000e-04\n",
      "Epoch 18/500\n",
      "70/70 [==============================] - 72s 1s/step - loss: 2.4824 - accuracy: 0.2846 - val_loss: 2.4802 - val_accuracy: 0.2924 - lr: 1.0000e-04\n",
      "Epoch 19/500\n",
      "70/70 [==============================] - 72s 1s/step - loss: 2.4652 - accuracy: 0.2944 - val_loss: 2.4541 - val_accuracy: 0.2924 - lr: 1.0000e-04\n",
      "Epoch 20/500\n",
      "70/70 [==============================] - 70s 1s/step - loss: 2.4431 - accuracy: 0.2949 - val_loss: 2.4437 - val_accuracy: 0.3008 - lr: 1.0000e-04\n",
      "Epoch 21/500\n",
      "70/70 [==============================] - 69s 985ms/step - loss: 2.4283 - accuracy: 0.3074 - val_loss: 2.4410 - val_accuracy: 0.2797 - lr: 1.0000e-04\n",
      "Epoch 22/500\n",
      "70/70 [==============================] - 67s 958ms/step - loss: 2.4166 - accuracy: 0.3051 - val_loss: 2.4290 - val_accuracy: 0.2924 - lr: 1.0000e-04\n",
      "Epoch 23/500\n",
      "70/70 [==============================] - 68s 963ms/step - loss: 2.3985 - accuracy: 0.3078 - val_loss: 2.4241 - val_accuracy: 0.2966 - lr: 1.0000e-04\n",
      "Epoch 24/500\n",
      "45/70 [==================>...........] - ETA: 20s - loss: 2.3774 - accuracy: 0.3115"
     ]
    }
   ],
   "source": [
    "es = callbacks.EarlyStopping(monitor='val_loss', patience=5, verbose=1, restore_best_weights=True)\n",
    "\n",
    "rlp = callbacks.ReduceLROnPlateau(monitor='val_loss', factor=0.1, patience=2, min_lr=1e-10, mode='min', verbose=1)\n",
    "\n",
    "history = model.fit(\n",
    "    training_set, validation_data=validation_set,\n",
    "    epochs=config.MAX_EPOCHS, callbacks=[es, rlp], batch_size=8\n",
    ")"
   ]
  },
  {
   "cell_type": "markdown",
   "metadata": {
    "id": "2qf7GN1aeXJI"
   },
   "source": [
    "# 8 Results\n",
    "\n",
    "Carry out your experiments here, explain your results."
   ]
  },
  {
   "cell_type": "code",
   "execution_count": null,
   "metadata": {},
   "outputs": [],
   "source": []
  },
  {
   "cell_type": "markdown",
   "metadata": {},
   "source": [
    "  \n",
    "  \n",
    "--------------------------------------\n",
    "--------------------------------------\n",
    "--------------------------------------\n",
    "  \n",
    "  \n",
    "  "
   ]
  },
  {
   "cell_type": "markdown",
   "metadata": {
    "id": "fSrJCR_cekPO"
   },
   "source": [
    "# 9 Conclusions\n",
    "\n",
    "Your conclusions, improvements, etc should go here"
   ]
  }
 ],
 "metadata": {
  "colab": {
   "provenance": []
  },
  "kernelspec": {
   "display_name": "Python 3 (ipykernel)",
   "language": "python",
   "name": "python3"
  },
  "language_info": {
   "codemirror_mode": {
    "name": "ipython",
    "version": 3
   },
   "file_extension": ".py",
   "mimetype": "text/x-python",
   "name": "python",
   "nbconvert_exporter": "python",
   "pygments_lexer": "ipython3",
   "version": "3.10.4"
  }
 },
 "nbformat": 4,
 "nbformat_minor": 1
}
