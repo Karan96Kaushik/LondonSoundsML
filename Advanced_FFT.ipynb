{
 "cells": [
  {
   "cell_type": "markdown",
   "metadata": {},
   "source": [
    "Ref: https://www.kaggle.com/code/ritvik1909/speech-classification-spectrogram-cnn"
   ]
  },
  {
   "cell_type": "code",
   "execution_count": 56,
   "metadata": {},
   "outputs": [],
   "source": [
    "import numpy as np\n",
    "import pandas as pd\n",
    "import matplotlib.pyplot as plt\n",
    "import librosa.display\n",
    "import math\n",
    "\n",
    "import os, sys, re, pickle, glob\n",
    "import urllib.request\n",
    "import zipfile\n",
    "\n",
    "import IPython.display as ipd\n",
    "import IPython.display\n",
    "from tqdm import tqdm\n",
    "import librosa\n",
    "import scipy.stats as stats\n",
    "\n",
    "from sklearn.preprocessing import OneHotEncoder\n",
    "from sklearn.compose import make_column_transformer"
   ]
  },
  {
   "cell_type": "code",
   "execution_count": 4,
   "metadata": {},
   "outputs": [],
   "source": [
    "sample_path = 'MLEndLS/*.wav'\n",
    "files = glob.glob(sample_path)\n",
    "MLENDLS_df = pd.read_csv('./MLEndLS.csv').set_index('file_id') "
   ]
  },
  {
   "cell_type": "code",
   "execution_count": 39,
   "metadata": {},
   "outputs": [
    {
     "name": "stdout",
     "output_type": "stream",
     "text": [
      "[[0.0 1.0 0.0 ... 0.0 'street' 'S151']\n",
      " [1.0 0.0 0.0 ... 0.0 'dinosaur' 'S127']\n",
      " [0.0 1.0 0.0 ... 0.0 'square' 'S18']\n",
      " ...\n",
      " [1.0 0.0 0.0 ... 1.0 'national' 'S96']\n",
      " [1.0 0.0 0.0 ... 0.0 'room12' 'S73']\n",
      " [1.0 0.0 0.0 ... 0.0 'room12' 'S58']]\n",
      "         in_out_indoor in_out_outdoor area_Euston area_british area_campus  \\\n",
      "file_id                                                                      \n",
      "0001.wav           0.0            1.0         0.0          1.0         0.0   \n",
      "0002.wav           1.0            0.0         0.0          0.0         0.0   \n",
      "0003.wav           0.0            1.0         0.0          0.0         1.0   \n",
      "0004.wav           1.0            0.0         0.0          0.0         0.0   \n",
      "0005.wav           0.0            1.0         0.0          0.0         1.0   \n",
      "...                ...            ...         ...          ...         ...   \n",
      "2496.wav           0.0            1.0         0.0          0.0         0.0   \n",
      "2497.wav           0.0            1.0         0.0          0.0         1.0   \n",
      "2498.wav           1.0            0.0         0.0          0.0         0.0   \n",
      "2499.wav           1.0            0.0         0.0          1.0         0.0   \n",
      "2500.wav           1.0            0.0         0.0          1.0         0.0   \n",
      "\n",
      "         area_kensington area_southbank area_westend  \n",
      "file_id                                               \n",
      "0001.wav             0.0            0.0          0.0  \n",
      "0002.wav             1.0            0.0          0.0  \n",
      "0003.wav             0.0            0.0          0.0  \n",
      "0004.wav             1.0            0.0          0.0  \n",
      "0005.wav             0.0            0.0          0.0  \n",
      "...                  ...            ...          ...  \n",
      "2496.wav             0.0            0.0          1.0  \n",
      "2497.wav             0.0            0.0          0.0  \n",
      "2498.wav             0.0            0.0          1.0  \n",
      "2499.wav             0.0            0.0          0.0  \n",
      "2500.wav             0.0            0.0          0.0  \n",
      "\n",
      "[2500 rows x 8 columns]\n",
      "                area       spot   in_out Participant\n",
      "file_id                                             \n",
      "0001.wav     british     street  outdoor        S151\n",
      "0002.wav  kensington   dinosaur   indoor        S127\n",
      "0003.wav      campus     square  outdoor         S18\n",
      "0004.wav  kensington     hintze   indoor        S179\n",
      "0005.wav      campus     square  outdoor        S176\n",
      "...              ...        ...      ...         ...\n",
      "2496.wav     westend  trafalgar  outdoor        S151\n",
      "2497.wav      campus     square  outdoor          S6\n",
      "2498.wav     westend   national   indoor         S96\n",
      "2499.wav     british     room12   indoor         S73\n",
      "2500.wav     british     room12   indoor         S58\n",
      "\n",
      "[2500 rows x 4 columns]\n"
     ]
    }
   ],
   "source": [
    "column_transformer = make_column_transformer(\n",
    "    (OneHotEncoder(), ['in_out', 'area']),\n",
    "    remainder='passthrough',\n",
    "    verbose_feature_names_out=False\n",
    ")\n",
    "\n",
    "input_data = column_transformer.fit_transform(MLENDLS_df)\n",
    "input_data = pd.DataFrame(data=input_data, index=MLENDLS_df.index, columns=column_transformer.get_feature_names_out())\n",
    "\n",
    "labels = MLENDLS_df['spot'].to_numpy()\n",
    "\n",
    "input_data = input_data.drop(columns=[\n",
    "    'Participant',\n",
    "    'spot'\n",
    "])\n",
    "\n",
    "# display(input_data)\n",
    "# display(labels)"
   ]
  },
  {
   "cell_type": "code",
   "execution_count": 65,
   "metadata": {
    "scrolled": true
   },
   "outputs": [
    {
     "name": "stdout",
     "output_type": "stream",
     "text": [
      "100\r"
     ]
    },
    {
     "name": "stderr",
     "output_type": "stream",
     "text": [
      "/home/samsepiol/pyenvs/ml/lib/python3.10/site-packages/librosa/util/decorators.py:88: UserWarning: Trying to estimate tuning from empty frequency set.\n",
      "  return f(*args, **kwargs)\n"
     ]
    },
    {
     "name": "stdout",
     "output_type": "stream",
     "text": [
      "2400\n",
      "Done\n"
     ]
    }
   ],
   "source": [
    "aud_data = []\n",
    "labels = []\n",
    "meta_data = []\n",
    "\n",
    "for n in range(0,int(len(files))):\n",
    "    a, fs = librosa.load(files[n],sr=None)\n",
    "    \n",
    "    # FFT Frequency extraction\n",
    "    data = librosa.feature.chroma_stft(y=a)\n",
    "    \n",
    "    # Trimming to get a standard input size\n",
    "    data = data[:,:536].T\n",
    "    data = data.reshape(1,data.shape[0]*data.shape[1])\n",
    "    data = data[0]\n",
    "    \n",
    "    # Filtering errored/invalid/short data\n",
    "    if len(data) < 536*12: continue\n",
    "    if (n%100 == 0): print(n, end=\"\\r\")\n",
    "        \n",
    "    aud_data.append(data)\n",
    "    meta_data.append(input_data.loc[files[n].split('/')[-1]].to_numpy())\n",
    "    labels.append(MLENDLS_df.loc[files[n].split('/')[-1]]['spot'])\n",
    "    \n",
    "print(\"\\nDone\")"
   ]
  },
  {
   "cell_type": "code",
   "execution_count": 58,
   "metadata": {},
   "outputs": [
    {
     "name": "stdout",
     "output_type": "stream",
     "text": [
      "          pc1       pc2 in_out_indoor in_out_outdoor area_Euston area_british  \\\n",
      "0   -8.372871 -6.579957           0.0            1.0         0.0          0.0   \n",
      "1    6.731894  -2.60293           1.0            0.0         0.0          0.0   \n",
      "2    2.251407 -1.836723           1.0            0.0         0.0          0.0   \n",
      "3   -2.237509  5.105683           0.0            1.0         0.0          0.0   \n",
      "4    -8.84454 -3.567096           0.0            1.0         0.0          0.0   \n",
      "..        ...       ...           ...            ...         ...          ...   \n",
      "243 -8.909318 -2.446361           0.0            1.0         0.0          1.0   \n",
      "244  4.971639  2.017177           0.0            1.0         0.0          0.0   \n",
      "245 -6.756484 -1.019082           0.0            1.0         0.0          1.0   \n",
      "246 -9.570527 -0.356729           0.0            1.0         0.0          0.0   \n",
      "247 -0.199921  -1.74097           1.0            0.0         0.0          0.0   \n",
      "\n",
      "    area_campus area_kensington area_southbank area_westend  \n",
      "0           1.0             0.0            0.0          0.0  \n",
      "1           1.0             0.0            0.0          0.0  \n",
      "2           0.0             0.0            0.0          1.0  \n",
      "3           1.0             0.0            0.0          0.0  \n",
      "4           1.0             0.0            0.0          0.0  \n",
      "..          ...             ...            ...          ...  \n",
      "243         0.0             0.0            0.0          0.0  \n",
      "244         1.0             0.0            0.0          0.0  \n",
      "245         0.0             0.0            0.0          0.0  \n",
      "246         1.0             0.0            0.0          0.0  \n",
      "247         0.0             0.0            0.0          1.0  \n",
      "\n",
      "[248 rows x 10 columns]\n"
     ]
    }
   ],
   "source": [
    "import pandas as pd\n",
    "from sklearn.decomposition import PCA\n",
    "\n",
    "# After various attempts, it was observed that we get the best results with atleast 5 components\n",
    "numComponents = 2\n",
    "pca = PCA(n_components=numComponents)\n",
    "pca.fit(aud_data)\n",
    "\n",
    "projected = pca.transform(aud_data)\n",
    "\n",
    "# Add the hot encoded category features to the input\n",
    "projected = np.concatenate((projected, meta_data), axis=1)\n",
    "\n",
    "projected = pd.DataFrame(projected,columns=[\n",
    "        'pc1',\n",
    "        'pc2', \n",
    "        'in_out_indoor', \n",
    "        'in_out_outdoor', \n",
    "        'area_Euston', \n",
    "        'area_british', \n",
    "        'area_campus',\n",
    "        'area_kensington', \n",
    "        'area_southbank', \n",
    "        'area_westend' \n",
    "])\n",
    "\n",
    "print(projected)"
   ]
  },
  {
   "cell_type": "code",
   "execution_count": 59,
   "metadata": {},
   "outputs": [
    {
     "name": "stdout",
     "output_type": "stream",
     "text": [
      "(198, 10) (50, 10)\n"
     ]
    }
   ],
   "source": [
    "from sklearn.model_selection import GridSearchCV, train_test_split\n",
    "\n",
    "X_train, X_val, y_train, y_val = train_test_split(projected,labels,test_size=0.2)\n",
    "print(X_train.shape, X_val.shape)"
   ]
  },
  {
   "cell_type": "code",
   "execution_count": 64,
   "metadata": {},
   "outputs": [
    {
     "name": "stdout",
     "output_type": "stream",
     "text": [
      "Hyperparameters:  SVC(C=20)\n",
      "Average accuracy:  0.418974358974359\n",
      "Test dataset accuracy: 0.28\n"
     ]
    },
    {
     "name": "stderr",
     "output_type": "stream",
     "text": [
      "/home/samsepiol/pyenvs/ml/lib/python3.10/site-packages/sklearn/model_selection/_split.py:684: UserWarning: The least populated class in y has only 1 members, which is less than n_splits=5.\n",
      "  warnings.warn(\n"
     ]
    }
   ],
   "source": [
    "from sklearn import svm\n",
    "\n",
    "parameters = {'C':[1,10,20,50]}\n",
    "\n",
    "svc = svm.SVC()\n",
    "clf = GridSearchCV(svc, parameters,cv=5)\n",
    "\n",
    "clf.fit(X_train,y_train)\n",
    "\n",
    "print('Hyperparameters: ', clf.best_estimator_)\n",
    "print('Average accuracy: ', clf.best_score_)\n",
    "print('Test dataset accuracy:', clf.score(X_val, y_val))"
   ]
  },
  {
   "cell_type": "code",
   "execution_count": null,
   "metadata": {},
   "outputs": [],
   "source": []
  },
  {
   "cell_type": "markdown",
   "metadata": {
    "id": "2qf7GN1aeXJI"
   },
   "source": [
    "# 8 Results\n",
    "\n",
    "Carry out your experiments here, explain your results."
   ]
  },
  {
   "cell_type": "code",
   "execution_count": null,
   "metadata": {},
   "outputs": [],
   "source": []
  },
  {
   "cell_type": "markdown",
   "metadata": {},
   "source": [
    "  \n",
    "  \n",
    "--------------------------------------\n",
    "--------------------------------------\n",
    "--------------------------------------\n",
    "  \n",
    "  \n",
    "  "
   ]
  },
  {
   "cell_type": "markdown",
   "metadata": {
    "id": "fSrJCR_cekPO"
   },
   "source": [
    "# 9 Conclusions\n",
    "\n",
    "Your conclusions, improvements, etc should go here"
   ]
  }
 ],
 "metadata": {
  "colab": {
   "provenance": []
  },
  "kernelspec": {
   "display_name": "Python 3 (ipykernel)",
   "language": "python",
   "name": "python3"
  },
  "language_info": {
   "codemirror_mode": {
    "name": "ipython",
    "version": 3
   },
   "file_extension": ".py",
   "mimetype": "text/x-python",
   "name": "python",
   "nbconvert_exporter": "python",
   "pygments_lexer": "ipython3",
   "version": "3.10.4"
  }
 },
 "nbformat": 4,
 "nbformat_minor": 1
}
