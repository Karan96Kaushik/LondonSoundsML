{
 "cells": [
  {
   "cell_type": "markdown",
   "metadata": {
    "id": "91MsGMTna_P9"
   },
   "source": [
    "# ECS7020P mini-project submission\n",
    "\n",
    "The mini-project has two separate components:\n",
    "\n",
    "\n",
    "1.   **Basic component** [6 marks]: Using the MLEnd London Sounds dataset, build a machine learning pipeline that takes as an input an audio segment and predicts whether the audio segment has been recorded indoors or outdoors.\n",
    "2.   **Advanced component** [10 marks]: Formulate your own machine learning problem and build a machine learning solution using the MLEnd London Sounds dataset. \n",
    "\n",
    "Your submission will consist of two Jupyter notebooks, one for the basic component and another one for advanced component. Please **name each notebook**:\n",
    "\n",
    "* ECS7020P_miniproject_basic.ipynb\n",
    "* ECS7020P_miniproject_advanced.ipynb\n",
    "\n",
    "then **zip and submit them toghether**.\n",
    "\n",
    "Each uploaded notebook should include: \n",
    "\n",
    "*   **Text cells**, describing concisely each step and results.\n",
    "*   **Code cells**, implementing each step.\n",
    "*   **Output cells**, i.e. the output from each code cell.\n",
    "\n",
    "and **should have the structure** indicated below. Notebooks might not be run, please make sure that the output cells are saved.\n",
    "\n",
    "How will we evaluate your submission?\n",
    "\n",
    "*   Conciseness in your writing (10%).\n",
    "*   Correctness in your methodology (30%).\n",
    "*   Correctness in your analysis and conclusions (30%).\n",
    "*   Completeness (10%).\n",
    "*   Originality (10%).\n",
    "*   Efforts to try something new (10%).\n",
    "\n",
    "Suggestion: Why don't you use **GitHub** to manage your project? GitHub can be used as a presentation card that showcases what you have done and gives evidence of your data science skills, knowledge and experience. \n",
    "\n",
    "Each notebook should be structured into the following 9 sections:\n"
   ]
  },
  {
   "cell_type": "markdown",
   "metadata": {
    "id": "ZaGn4ICrfqXZ"
   },
   "source": [
    "# 1 Author\n",
    "\n",
    "**Student Name**:  Karan Kaus\n",
    "**Student ID**:  \n",
    "\n"
   ]
  },
  {
   "cell_type": "markdown",
   "metadata": {
    "id": "o38VQkcdKd6k"
   },
   "source": [
    "# 2 Problem formulation\n",
    "\n",
    "Describe the machine learning problem that you want to solve and explain what's interesting about it."
   ]
  },
  {
   "cell_type": "markdown",
   "metadata": {
    "id": "N3BwrtEdLDit"
   },
   "source": [
    "# 3 Machine Learning pipeline\n",
    "\n",
    "Describe your ML pipeline. Clearly identify its input and output, any intermediate stages (for instance, transformation -> models), and intermediate data moving from one stage to the next. It's up to you to decide which stages to include in your pipeline. "
   ]
  },
  {
   "cell_type": "markdown",
   "metadata": {
    "id": "j1nDXnzYLLH6"
   },
   "source": [
    "# 4 Transformation stage\n",
    "\n",
    "Describe any transformations, such as feature extraction. Identify input and output. Explain why you have chosen this transformation stage."
   ]
  },
  {
   "cell_type": "markdown",
   "metadata": {
    "id": "0F5_kI95LuZ2"
   },
   "source": [
    "# 5 Modelling\n",
    "\n",
    "Describe the ML model(s) that you will build. Explain why you have chosen them."
   ]
  },
  {
   "cell_type": "markdown",
   "metadata": {
    "id": "bPTSuaB9L2jU"
   },
   "source": [
    "# 6 Methodology\n",
    "\n",
    "Describe how you will train and validate your models, how model performance is assesssed (i.e. accuracy, confusion matrix, etc)"
   ]
  },
  {
   "cell_type": "markdown",
   "metadata": {
    "id": "HZQPxztuL9AW"
   },
   "source": [
    "# 7 Dataset\n",
    "\n",
    "Describe the dataset that you will use to create your models and validate them. If you need to preprocess it, do it here. Include visualisations too. You can visualise raw data samples or extracted features."
   ]
  },
  {
   "cell_type": "code",
   "execution_count": 1,
   "metadata": {},
   "outputs": [],
   "source": [
    "import numpy as np\n",
    "import pandas as pd\n",
    "import matplotlib.pyplot as plt\n",
    "import librosa.display\n",
    "import math\n",
    "\n",
    "import os, sys, re, pickle, glob\n",
    "import urllib.request\n",
    "import zipfile\n",
    "\n",
    "import IPython.display as ipd\n",
    "from tqdm import tqdm\n",
    "import librosa\n",
    "import scipy.stats as stats"
   ]
  },
  {
   "cell_type": "code",
   "execution_count": 2,
   "metadata": {},
   "outputs": [
    {
     "data": {
      "text/html": [
       "<div>\n",
       "<style scoped>\n",
       "    .dataframe tbody tr th:only-of-type {\n",
       "        vertical-align: middle;\n",
       "    }\n",
       "\n",
       "    .dataframe tbody tr th {\n",
       "        vertical-align: top;\n",
       "    }\n",
       "\n",
       "    .dataframe thead th {\n",
       "        text-align: right;\n",
       "    }\n",
       "</style>\n",
       "<table border=\"1\" class=\"dataframe\">\n",
       "  <thead>\n",
       "    <tr style=\"text-align: right;\">\n",
       "      <th></th>\n",
       "      <th>area</th>\n",
       "      <th>spot</th>\n",
       "      <th>in_out</th>\n",
       "      <th>Participant</th>\n",
       "    </tr>\n",
       "    <tr>\n",
       "      <th>file_id</th>\n",
       "      <th></th>\n",
       "      <th></th>\n",
       "      <th></th>\n",
       "      <th></th>\n",
       "    </tr>\n",
       "  </thead>\n",
       "  <tbody>\n",
       "    <tr>\n",
       "      <th>0001.wav</th>\n",
       "      <td>british</td>\n",
       "      <td>street</td>\n",
       "      <td>outdoor</td>\n",
       "      <td>S151</td>\n",
       "    </tr>\n",
       "    <tr>\n",
       "      <th>0002.wav</th>\n",
       "      <td>kensington</td>\n",
       "      <td>dinosaur</td>\n",
       "      <td>indoor</td>\n",
       "      <td>S127</td>\n",
       "    </tr>\n",
       "    <tr>\n",
       "      <th>0003.wav</th>\n",
       "      <td>campus</td>\n",
       "      <td>square</td>\n",
       "      <td>outdoor</td>\n",
       "      <td>S18</td>\n",
       "    </tr>\n",
       "    <tr>\n",
       "      <th>0004.wav</th>\n",
       "      <td>kensington</td>\n",
       "      <td>hintze</td>\n",
       "      <td>indoor</td>\n",
       "      <td>S179</td>\n",
       "    </tr>\n",
       "    <tr>\n",
       "      <th>0005.wav</th>\n",
       "      <td>campus</td>\n",
       "      <td>square</td>\n",
       "      <td>outdoor</td>\n",
       "      <td>S176</td>\n",
       "    </tr>\n",
       "    <tr>\n",
       "      <th>...</th>\n",
       "      <td>...</td>\n",
       "      <td>...</td>\n",
       "      <td>...</td>\n",
       "      <td>...</td>\n",
       "    </tr>\n",
       "    <tr>\n",
       "      <th>2496.wav</th>\n",
       "      <td>westend</td>\n",
       "      <td>trafalgar</td>\n",
       "      <td>outdoor</td>\n",
       "      <td>S151</td>\n",
       "    </tr>\n",
       "    <tr>\n",
       "      <th>2497.wav</th>\n",
       "      <td>campus</td>\n",
       "      <td>square</td>\n",
       "      <td>outdoor</td>\n",
       "      <td>S6</td>\n",
       "    </tr>\n",
       "    <tr>\n",
       "      <th>2498.wav</th>\n",
       "      <td>westend</td>\n",
       "      <td>national</td>\n",
       "      <td>indoor</td>\n",
       "      <td>S96</td>\n",
       "    </tr>\n",
       "    <tr>\n",
       "      <th>2499.wav</th>\n",
       "      <td>british</td>\n",
       "      <td>room12</td>\n",
       "      <td>indoor</td>\n",
       "      <td>S73</td>\n",
       "    </tr>\n",
       "    <tr>\n",
       "      <th>2500.wav</th>\n",
       "      <td>british</td>\n",
       "      <td>room12</td>\n",
       "      <td>indoor</td>\n",
       "      <td>S58</td>\n",
       "    </tr>\n",
       "  </tbody>\n",
       "</table>\n",
       "<p>2500 rows × 4 columns</p>\n",
       "</div>"
      ],
      "text/plain": [
       "                area       spot   in_out Participant\n",
       "file_id                                             \n",
       "0001.wav     british     street  outdoor        S151\n",
       "0002.wav  kensington   dinosaur   indoor        S127\n",
       "0003.wav      campus     square  outdoor         S18\n",
       "0004.wav  kensington     hintze   indoor        S179\n",
       "0005.wav      campus     square  outdoor        S176\n",
       "...              ...        ...      ...         ...\n",
       "2496.wav     westend  trafalgar  outdoor        S151\n",
       "2497.wav      campus     square  outdoor          S6\n",
       "2498.wav     westend   national   indoor         S96\n",
       "2499.wav     british     room12   indoor         S73\n",
       "2500.wav     british     room12   indoor         S58\n",
       "\n",
       "[2500 rows x 4 columns]"
      ]
     },
     "execution_count": 2,
     "metadata": {},
     "output_type": "execute_result"
    }
   ],
   "source": [
    "sample_path = 'MLEndLS/*.wav'\n",
    "files = glob.glob(sample_path)\n",
    "MLENDLS_df = pd.read_csv('./MLEndLS.csv').set_index('file_id') \n",
    "MLENDLS_df"
   ]
  },
  {
   "cell_type": "code",
   "execution_count": 14,
   "metadata": {
    "scrolled": true
   },
   "outputs": [
    {
     "name": "stderr",
     "output_type": "stream",
     "text": [
      "  7%|██▌                                    | 165/2500 [00:08<01:52, 20.76it/s]/tmp/ipykernel_26488/3417206462.py:29: RuntimeWarning: invalid value encountered in divide\n",
      "  if scale_audio: x = x/np.max(np.abs(x))\n",
      "  7%|██▌                                    | 168/2500 [00:09<01:44, 22.22it/s]"
     ]
    },
    {
     "name": "stdout",
     "output_type": "stream",
     "text": [
      "Invalid file 2206.wav\n"
     ]
    },
    {
     "name": "stderr",
     "output_type": "stream",
     "text": [
      " 93%|███████████████████████████████████▏  | 2316/2500 [01:50<00:06, 27.31it/s]"
     ]
    },
    {
     "name": "stdout",
     "output_type": "stream",
     "text": [
      "Invalid file 0033.wav\n"
     ]
    },
    {
     "name": "stderr",
     "output_type": "stream",
     "text": [
      "100%|██████████████████████████████████████| 2500/2500 [01:58<00:00, 21.18it/s]"
     ]
    },
    {
     "name": "stdout",
     "output_type": "stream",
     "text": [
      "\n",
      "Done\n"
     ]
    },
    {
     "name": "stderr",
     "output_type": "stream",
     "text": [
      "\n"
     ]
    },
    {
     "data": {
      "text/plain": [
       "(2498, 6)"
      ]
     },
     "metadata": {},
     "output_type": "display_data"
    }
   ],
   "source": [
    "import matplotlib.pyplot as plt\n",
    "\n",
    "aud_data = []\n",
    "labels = []\n",
    "\n",
    "def getPitch(x,fs,winLen=0.02):\n",
    "    #winLen = 0.02 \n",
    "    p = winLen*fs\n",
    "    frame_length = int(2**int(p-1).bit_length())\n",
    "    hop_length = frame_length//2\n",
    "    f0 = librosa.yin(y=x, fmin=300, fmax=1000, sr=fs,\n",
    "                frame_length=frame_length,hop_length=hop_length)\n",
    "    return f0\n",
    "\n",
    "def getXy(files,labels_file, scale_audio=False, onlySingleDigit=False):\n",
    "    \n",
    "    X,y,new_files =[],[],[]\n",
    "    \n",
    "    for file in tqdm(files):\n",
    "        fileID = file.split('/')[-1]\n",
    "        file_name = file.split('/')[-1]\n",
    "\n",
    "        yi = labels_file.loc[fileID]['in_out'] == 'indoor'\n",
    "\n",
    "        fs = None # if None, fs would be 22050\n",
    "        x, fs = librosa.load(file,sr=fs)\n",
    "        f0 = None\n",
    "\n",
    "        if scale_audio: x = x/np.max(np.abs(x))\n",
    "        \n",
    "        try:\n",
    "            f0 = getPitch(x,fs,winLen=0.02)\n",
    "            pass\n",
    "        except:\n",
    "            print(\"Invalid file\", file_name)\n",
    "            continue\n",
    "            \n",
    "        aud_data.append(d_mfcc)\n",
    "\n",
    "        power = np.sum(x**2)/len(x)\n",
    "        pitch_mean = np.nanmean(f0) if np.mean(np.isnan(f0))<1 else 0\n",
    "        pitch_std  = np.nanstd(f0) if np.mean(np.isnan(f0))<1 else 0\n",
    "#         voiced_fr = np.mean(voiced_flag)\n",
    "\n",
    "        xi = [ power, pitch_mean, pitch_std, labels_file.loc[fileID]['Participant'], labels_file.loc[fileID]['spot'], labels_file.loc[fileID]['area']]\n",
    "        X.append(xi)\n",
    "        y.append(yi)\n",
    "        new_files.append(file)\n",
    "\n",
    "    return np.array(X),np.array(y),new_files\n",
    "\n",
    "X, y, new_files = getXy(files[0:], labels_file=MLENDLS_df, scale_audio=True, onlySingleDigit=True)\n",
    "\n",
    "print(\"\\nDone\")\n",
    "display(X.shape)"
   ]
  },
  {
   "cell_type": "code",
   "execution_count": 16,
   "metadata": {},
   "outputs": [],
   "source": [
    "X_backup=X"
   ]
  },
  {
   "cell_type": "code",
   "execution_count": 17,
   "metadata": {},
   "outputs": [
    {
     "data": {
      "text/plain": [
       "(2498, 3)"
      ]
     },
     "metadata": {},
     "output_type": "display_data"
    }
   ],
   "source": [
    "display(X[:,0:3].shape)"
   ]
  },
  {
   "cell_type": "code",
   "execution_count": null,
   "metadata": {},
   "outputs": [],
   "source": [
    "import pandas as pd\n",
    "from sklearn.decomposition import PCA\n",
    "import matplotlib.pyplot as plt\n",
    "\n",
    "numComponents = 5\n",
    "pca = PCA(n_components=numComponents)\n",
    "pca.fit(aud_data)\n",
    "\n",
    "projected = pca.transform(aud_data)\n",
    "projected = pd.DataFrame(projected,columns=['pc1','pc2','pc3','pc4','pc5'],index=range(1,len(aud_data)+1))\n",
    "# projected['label'] = labels\n",
    "display(projected)"
   ]
  },
  {
   "cell_type": "code",
   "execution_count": null,
   "metadata": {},
   "outputs": [],
   "source": [
    "projected = projected.drop(columns=[\n",
    "#     'pc3',\n",
    "    'pc4',\n",
    "    'pc5',\n",
    "#     'pc6',\n",
    "#     'pc7'\n",
    "])"
   ]
  },
  {
   "cell_type": "code",
   "execution_count": 30,
   "metadata": {},
   "outputs": [
    {
     "name": "stdout",
     "output_type": "stream",
     "text": [
      "(1998, 3) (500, 3)\n"
     ]
    }
   ],
   "source": [
    "from sklearn.model_selection import GridSearchCV, train_test_split\n",
    "X = X[:,0:3]\n",
    "\n",
    "X_train, X_val, y_train, y_val = train_test_split(X, y, test_size=0.2)\n",
    "# X_train, X_val, y_train, y_val = train_test_split(projected,labels,test_size=0.2)\n",
    "\n",
    "print(X_train.shape, X_val.shape)"
   ]
  },
  {
   "cell_type": "markdown",
   "metadata": {
    "id": "2qf7GN1aeXJI"
   },
   "source": [
    "# 8 Results\n",
    "\n",
    "Carry out your experiments here, explain your results."
   ]
  },
  {
   "cell_type": "code",
   "execution_count": 26,
   "metadata": {},
   "outputs": [
    {
     "name": "stdout",
     "output_type": "stream",
     "text": [
      "Hyperparameters:  SVC(C=1)\n",
      "Average accuracy:  0.7242105263157895\n",
      "Test dataset accuracy: 0.706\n"
     ]
    }
   ],
   "source": [
    "from sklearn import svm\n",
    "\n",
    "parameters = {'C':[1,2,3,4,5]}\n",
    "\n",
    "svc = svm.SVC()\n",
    "clf = GridSearchCV(svc, parameters,cv=5)\n",
    "\n",
    "clf.fit(X_train,y_train)\n",
    "\n",
    "print('Hyperparameters: ', clf.best_estimator_)\n",
    "print('Average accuracy: ', clf.best_score_)\n",
    "print('Test dataset accuracy:', clf.score(X_val, y_val))"
   ]
  },
  {
   "cell_type": "code",
   "execution_count": 33,
   "metadata": {},
   "outputs": [
    {
     "name": "stdout",
     "output_type": "stream",
     "text": [
      "Hyperparameters:  RandomForestClassifier(max_depth=7, max_features=1, n_estimators=50)\n",
      "Average accuracy:  0.730733082706767\n",
      "Test dataset accuracy: 0.73\n"
     ]
    }
   ],
   "source": [
    "parameters = {'n_estimators':[50,200,300, 500], 'max_features':[0.1,1,10], 'max_depth':[7]}\n",
    "\n",
    "rfc = RandomForestClassifier(max_depth=7)\n",
    "clf = GridSearchCV(rfc, parameters,cv=5)\n",
    "\n",
    "clf.fit(X_train,y_train)\n",
    "\n",
    "print('Hyperparameters: ', clf.best_estimator_)\n",
    "print('Average accuracy: ', clf.best_score_)\n",
    "print('Test dataset accuracy:', clf.score(X_val, y_val))"
   ]
  },
  {
   "cell_type": "code",
   "execution_count": 27,
   "metadata": {},
   "outputs": [
    {
     "ename": "NameError",
     "evalue": "name 'projected' is not defined",
     "output_type": "error",
     "traceback": [
      "\u001b[0;31m---------------------------------------------------------------------------\u001b[0m",
      "\u001b[0;31mNameError\u001b[0m                                 Traceback (most recent call last)",
      "Input \u001b[0;32mIn [27]\u001b[0m, in \u001b[0;36m<cell line: 6>\u001b[0;34m()\u001b[0m\n\u001b[1;32m      2\u001b[0m \u001b[38;5;28;01mfrom\u001b[39;00m \u001b[38;5;21;01msklearn\u001b[39;00m\u001b[38;5;21;01m.\u001b[39;00m\u001b[38;5;21;01mdatasets\u001b[39;00m \u001b[38;5;28;01mimport\u001b[39;00m make_classification\n\u001b[1;32m      4\u001b[0m \u001b[38;5;28;01mfrom\u001b[39;00m \u001b[38;5;21;01msklearn\u001b[39;00m\u001b[38;5;21;01m.\u001b[39;00m\u001b[38;5;21;01mmodel_selection\u001b[39;00m \u001b[38;5;28;01mimport\u001b[39;00m GridSearchCV, train_test_split\n\u001b[0;32m----> 6\u001b[0m X_train, X_val, y_train, y_val \u001b[38;5;241m=\u001b[39m train_test_split(\u001b[43mprojected\u001b[49m,labels,test_size\u001b[38;5;241m=\u001b[39m\u001b[38;5;241m0.2\u001b[39m)\n\u001b[1;32m      7\u001b[0m \u001b[38;5;28mprint\u001b[39m(X_train\u001b[38;5;241m.\u001b[39mshape, X_val\u001b[38;5;241m.\u001b[39mshape)\n\u001b[1;32m      9\u001b[0m clf \u001b[38;5;241m=\u001b[39m RandomForestClassifier(max_depth\u001b[38;5;241m=\u001b[39m\u001b[38;5;241m7\u001b[39m)\n",
      "\u001b[0;31mNameError\u001b[0m: name 'projected' is not defined"
     ]
    }
   ],
   "source": [
    "from sklearn.ensemble import RandomForestClassifier\n",
    "from sklearn.datasets import make_classification\n",
    "\n",
    "from sklearn.model_selection import GridSearchCV, train_test_split\n",
    "\n",
    "X_train, X_val, y_train, y_val = train_test_split(projected,labels,test_size=0.2)\n",
    "print(X_train.shape, X_val.shape)\n",
    "\n",
    "clf = RandomForestClassifier(max_depth=7)\n",
    "clf.fit(X_train,y_train)\n",
    "\n",
    "yt_p = clf.predict(X_train)\n",
    "yv_p = clf.predict(X_val)\n",
    "\n",
    "print('Training Accuracy', np.mean(yt_p==y_train))\n",
    "print('Validation  Accuracy', np.mean(yv_p==y_val))"
   ]
  },
  {
   "cell_type": "code",
   "execution_count": null,
   "metadata": {},
   "outputs": [],
   "source": [
    "model  = svm.SVC(C=1)\n",
    "model.fit(X_train,y_train)\n",
    "\n",
    "yt_p = model.predict(X_train)\n",
    "yv_p = model.predict(X_val)\n",
    "\n",
    "print('Training Accuracy', np.mean(yt_p==y_train))\n",
    "print('Validation  Accuracy', np.mean(yv_p==y_val))\n",
    "print('The support vectors are', model.support_vectors_.shape)"
   ]
  },
  {
   "cell_type": "code",
   "execution_count": null,
   "metadata": {},
   "outputs": [],
   "source": [
    "from sklearn.ensemble import RandomForestClassifier\n",
    "from sklearn.tree import DecisionTreeClassifier\n",
    "from sklearn.model_selection import cross_val_score\n",
    "\n",
    "clf = DecisionTreeClassifier(max_depth=None, min_samples_split=102,\n",
    "     random_state=0)\n",
    "scores = cross_val_score(clf, X_train, y_train, cv=5)\n",
    "print(scores.mean())\n",
    "\n",
    "clf = RandomForestClassifier(n_estimators=55, max_depth=None,\n",
    "     min_samples_split=2, random_state=0)\n",
    "scores = cross_val_score(clf, X_train, y_train, cv=5)\n",
    "print(scores.mean())"
   ]
  },
  {
   "cell_type": "markdown",
   "metadata": {
    "id": "fSrJCR_cekPO"
   },
   "source": [
    "# 9 Conclusions\n",
    "\n",
    "Your conclusions, improvements, etc should go here"
   ]
  }
 ],
 "metadata": {
  "colab": {
   "provenance": []
  },
  "kernelspec": {
   "display_name": "Python 3 (ipykernel)",
   "language": "python",
   "name": "python3"
  },
  "language_info": {
   "codemirror_mode": {
    "name": "ipython",
    "version": 3
   },
   "file_extension": ".py",
   "mimetype": "text/x-python",
   "name": "python",
   "nbconvert_exporter": "python",
   "pygments_lexer": "ipython3",
   "version": "3.10.4"
  }
 },
 "nbformat": 4,
 "nbformat_minor": 1
}
